{
 "cells": [
  {
   "cell_type": "code",
   "execution_count": 2,
   "id": "1e82ad4e",
   "metadata": {},
   "outputs": [
    {
     "ename": "ModuleNotFoundError",
     "evalue": "No module named 'bertopic'",
     "output_type": "error",
     "traceback": [
      "\u001b[1;31m---------------------------------------------------------------------------\u001b[0m",
      "\u001b[1;31mModuleNotFoundError\u001b[0m                       Traceback (most recent call last)",
      "Cell \u001b[1;32mIn[2], line 4\u001b[0m\n\u001b[0;32m      1\u001b[0m \u001b[38;5;66;03m# Search Trends Cleaning and Term Grouping Notebook\u001b[39;00m\n\u001b[0;32m      3\u001b[0m \u001b[38;5;28;01mimport\u001b[39;00m\u001b[38;5;250m \u001b[39m\u001b[38;5;21;01mpandas\u001b[39;00m\u001b[38;5;250m \u001b[39m\u001b[38;5;28;01mas\u001b[39;00m\u001b[38;5;250m \u001b[39m\u001b[38;5;21;01mpd\u001b[39;00m\n\u001b[1;32m----> 4\u001b[0m \u001b[38;5;28;01mfrom\u001b[39;00m\u001b[38;5;250m \u001b[39m\u001b[38;5;21;01mbertopic\u001b[39;00m\u001b[38;5;250m \u001b[39m\u001b[38;5;28;01mimport\u001b[39;00m BERTopic\n\u001b[0;32m      5\u001b[0m \u001b[38;5;28;01mfrom\u001b[39;00m\u001b[38;5;250m \u001b[39m\u001b[38;5;21;01msklearn\u001b[39;00m\u001b[38;5;21;01m.\u001b[39;00m\u001b[38;5;21;01mfeature_extraction\u001b[39;00m\u001b[38;5;21;01m.\u001b[39;00m\u001b[38;5;21;01mtext\u001b[39;00m\u001b[38;5;250m \u001b[39m\u001b[38;5;28;01mimport\u001b[39;00m CountVectorizer\n\u001b[0;32m      6\u001b[0m \u001b[38;5;28;01mimport\u001b[39;00m\u001b[38;5;250m \u001b[39m\u001b[38;5;21;01mmatplotlib\u001b[39;00m\u001b[38;5;21;01m.\u001b[39;00m\u001b[38;5;21;01mpyplot\u001b[39;00m\u001b[38;5;250m \u001b[39m\u001b[38;5;28;01mas\u001b[39;00m\u001b[38;5;250m \u001b[39m\u001b[38;5;21;01mplt\u001b[39;00m\n",
      "\u001b[1;31mModuleNotFoundError\u001b[0m: No module named 'bertopic'"
     ]
    }
   ],
   "source": [
    "# Search Trends Cleaning and Term Grouping Notebook\n",
    "\n",
    "import pandas as pd\n",
    "from bertopic import BERTopic\n",
    "from sklearn.feature_extraction.text import CountVectorizer\n",
    "import matplotlib.pyplot as plt\n",
    "\n",
    "# Load the cleaned data\n",
    "file_path = 'search_trends.csv'  # Assuming preprocessing has already been done\n",
    "df = pd.read_csv(file_path)\n",
    "\n",
    "# Display sample\n",
    "print(\"Sample of preprocessed data:\")\n",
    "display(df.head())\n",
    "\n",
    "# Step 1: Extract queries for topic modeling\n",
    "queries = df['query'].tolist()\n",
    "\n",
    "# Step 2: Initialize BERTopic\n",
    "# You can tune parameters like embedding_model, nr_topics, etc.\n",
    "topic_model = BERTopic()\n",
    "\n",
    "# Step 3: Fit and transform\n",
    "topics, probs = topic_model.fit_transform(queries)\n",
    "\n",
    "# Step 4: Assign topics back to DataFrame\n",
    "df['topic'] = topics\n",
    "\n",
    "# Step 5: Explore topic labels\n",
    "print(\"Top 10 topics:\")\n",
    "topic_info = topic_model.get_topic_info()\n",
    "display(topic_info.head(10))\n",
    "\n",
    "# Step 6: Visualize topics\n",
    "fig = topic_model.visualize_topics()\n",
    "fig.show()\n",
    "\n",
    "# Optional: Save topic assignments\n",
    "df.to_csv('search_trends_with_topics.csv', index=False)\n",
    "print(\"\\nData with topics saved to 'search_trends_with_topics.csv'\")\n"
   ]
  }
 ],
 "metadata": {
  "kernelspec": {
   "display_name": "Python 3",
   "language": "python",
   "name": "python3"
  },
  "language_info": {
   "codemirror_mode": {
    "name": "ipython",
    "version": 3
   },
   "file_extension": ".py",
   "mimetype": "text/x-python",
   "name": "python",
   "nbconvert_exporter": "python",
   "pygments_lexer": "ipython3",
   "version": "3.10.9"
  }
 },
 "nbformat": 4,
 "nbformat_minor": 5
}
